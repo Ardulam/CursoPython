{
  "nbformat": 4,
  "nbformat_minor": 0,
  "metadata": {
    "colab": {
      "provenance": [],
      "include_colab_link": true
    },
    "kernelspec": {
      "name": "python3",
      "display_name": "Python 3"
    },
    "language_info": {
      "name": "python"
    }
  },
  "cells": [
    {
      "cell_type": "markdown",
      "metadata": {
        "id": "view-in-github",
        "colab_type": "text"
      },
      "source": [
        "<a href=\"https://colab.research.google.com/github/Ardulam/CursoPython/blob/main/Taller2.ipynb\" target=\"_parent\"><img src=\"https://colab.research.google.com/assets/colab-badge.svg\" alt=\"Open In Colab\"/></a>"
      ]
    },
    {
      "cell_type": "markdown",
      "source": [
        "![images.png](data:image/png;base64,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)\n",
        "\n",
        "\n",
        "**TALLER 2**\n",
        "\n",
        "CURSO DE PYTHON\n",
        "\n",
        "DIRECCION DE EDUCACIÓN CONTINUA\n",
        "\n",
        "FUNDACION UNIVERSITARIA CAFAM\n",
        "\n",
        "DOCENTE: NICOLAS MOJICA GOMEZ\n",
        "\n",
        "ESTUDIANTE: **ARMANDO DUARTE LAMPREA**\n",
        "\n",
        "\n",
        "---\n",
        "\n"
      ],
      "metadata": {
        "id": "G2L6PBrMa3jl"
      }
    },
    {
      "cell_type": "markdown",
      "source": [
        "\n"
      ],
      "metadata": {
        "id": "UKa2dN-Qa-IV"
      }
    },
    {
      "cell_type": "code",
      "execution_count": 65,
      "metadata": {
        "id": "U39N-MI9a0ZP",
        "colab": {
          "base_uri": "https://localhost:8080/"
        },
        "outputId": "4b82575a-6bef-4d3d-8525-b8dd0abf3fc2"
      },
      "outputs": [
        {
          "output_type": "stream",
          "name": "stdout",
          "text": [
            "ingrese su salario bruto: 10\n",
            "ingrese el valor del bono: 5\n",
            " Su Salario es:15.0\n"
          ]
        }
      ],
      "source": [
        "salario_bruto = float(input(\"ingrese su salario bruto: \"))\n",
        "bono = float(input(\"ingrese el valor del bono: \"))\n",
        "\n",
        "def calcular_salario_neto(salario_bruto,bono):\n",
        "    sn=salario_bruto+bono\n",
        "    return sn\n",
        "sn = calcular_salario_neto(salario_bruto,bono)\n",
        "print(f\" Su Salario es:{sn}\")\n",
        "\n"
      ]
    },
    {
      "cell_type": "markdown",
      "source": [],
      "metadata": {
        "id": "-Pc8GiHGkRAV"
      }
    },
    {
      "cell_type": "markdown",
      "source": [
        "## **Ejercicio 2: Cálcular precio final**"
      ],
      "metadata": {
        "id": "mHZNhErVantw"
      }
    },
    {
      "cell_type": "code",
      "source": [
        "precio_producto = float(input(\"ingrese el valor del producto: \"))\n",
        "valor_descuento = int(input(\"ingrese el % de descuento: \"))\n",
        "\n",
        "def calcular_precio_final(precio_producto,valor_descuento):\n",
        "    vp=precio_producto - (precio_producto * valor_descuento /100)\n",
        "    return vp\n",
        "vp = calcular_precio_final(precio_producto,valor_descuento)\n",
        "print(f\" Su costo final es:{vp}\")"
      ],
      "metadata": {
        "colab": {
          "base_uri": "https://localhost:8080/"
        },
        "id": "24sbUkpaaxAR",
        "outputId": "330c42e1-642c-41e9-9e8a-4e3e4d65d3e3"
      },
      "execution_count": 1,
      "outputs": [
        {
          "output_type": "stream",
          "name": "stdout",
          "text": [
            "ingrese el valor del producto: 100\n",
            "ingrese el % de descuento: 5\n",
            " Su costo final es:95.0\n"
          ]
        }
      ]
    },
    {
      "cell_type": "markdown",
      "source": [
        "## **Ejercicio 3: Simulación de envío de paquetes**"
      ],
      "metadata": {
        "id": "wTWvDs-p1gYU"
      }
    },
    {
      "cell_type": "code",
      "source": [
        "peso_paquete = float(input(\"ingrese el peso del producto kg: \"))\n",
        "distancia_envio = float(input(\"ingrese la distancia de envio km: \"))\n",
        "\n",
        "# costo de envio\n",
        "costoa = 10\n",
        "costob = 15\n",
        "costoc = 25\n",
        "km = 100\n",
        "\n",
        "def  calcular_costo_envio(peso_paquete, distancia_envio):\n",
        "  if peso_paquete < 5:\n",
        "      cp = costoa * distancia_envio / km\n",
        "  elif 5 <= peso_paquete <= 20:\n",
        "      cp= costob * distancia_envio / km\n",
        "  else:\n",
        "     cp= costoc * distancia_envio / km\n",
        "  return cp\n",
        "\n",
        "# Costo envio\n",
        "costo_envio = calcular_costo_envio(peso_paquete, distancia_envio)\n",
        "print(f\"El costo de envío es: ${costo_envio:}\")\n"
      ],
      "metadata": {
        "colab": {
          "base_uri": "https://localhost:8080/"
        },
        "id": "CYsdV_Vt1ob_",
        "outputId": "cb3b556e-5aa1-4af5-e6df-049be9898b64"
      },
      "execution_count": 19,
      "outputs": [
        {
          "output_type": "stream",
          "name": "stdout",
          "text": [
            "ingrese el peso del producto kg: 200\n",
            "ingrese la distancia de envio km: 200\n",
            "El costo de envío es: $50.0\n"
          ]
        }
      ]
    },
    {
      "cell_type": "markdown",
      "source": [
        "## **Ejercicio 4: Verificar si un cliente califica para un crédito**"
      ],
      "metadata": {
        "id": "aNvopd2jGqxZ"
      }
    },
    {
      "cell_type": "code",
      "source": [
        "#Costo Ingreso persona\n",
        "ingreso_mensual = float(input(\"ingrese el ingreso mensual $: \"))\n",
        "gastos_mensual = float(input(\"ingrese los gastos mensuales $: \"))\n",
        "\n",
        "def  calificar_credito(ingreso_mensual, gastos_mensual):\n",
        "     ahorro = ingreso_mensual - gastos_mensual\n",
        "     porc_ahorro = (ahorro/ingreso_mensual)*100\n",
        "\n",
        "     if porc_ahorro >= 30:\n",
        "      return f\"True\"\n",
        "\n",
        "     else:\n",
        "      return f\"False\"\n",
        "resultado = calificar_credito(ingreso_mensual, gastos_mensual)\n",
        "print(f\"El resultado es: ${resultado:}\")\n"
      ],
      "metadata": {
        "colab": {
          "base_uri": "https://localhost:8080/"
        },
        "id": "BwkFgWJlGzQz",
        "outputId": "83e80ab3-e3f4-4bfd-a5f8-f6186da5100c"
      },
      "execution_count": 25,
      "outputs": [
        {
          "output_type": "stream",
          "name": "stdout",
          "text": [
            "ingrese el ingreso mensual $: 200\n",
            "ingrese los gastos mensuales $: 180\n",
            "El resultado es: $False\n"
          ]
        }
      ]
    },
    {
      "cell_type": "markdown",
      "source": [
        "## **Ejercicio 5: Calcular el total de una factura**"
      ],
      "metadata": {
        "id": "WE5ABQx3K5B7"
      }
    },
    {
      "cell_type": "code",
      "source": [
        "# Productos\n",
        "\n",
        "producto1 = float(input(\"ingrese el precio del producto1 $: \"))\n",
        "producto2 = float(input(\"ingrese el precio del producto2 $: \"))\n",
        "producto3 = float(input(\"ingrese el precio del producto3 $: \"))\n",
        "producto4 = float(input(\"ingrese el precio del producto4 $: \"))\n",
        "\n",
        "\n",
        "def  calcular_factura(producto1, producto2, producto3, producto4):\n",
        "      costos_productos = ((producto1 + producto2 + producto3 + producto4)*16/100) + (producto1 + producto2 + producto3 + producto4)\n",
        "      return costos_productos\n",
        "\n",
        "costos_total = calcular_factura(producto1, producto2, producto3, producto4)\n",
        "print(f\"El costo productos: ${costos_total:}\")"
      ],
      "metadata": {
        "colab": {
          "base_uri": "https://localhost:8080/"
        },
        "id": "X3HcgiWSK-hi",
        "outputId": "9ceb1811-9ad8-4fdb-f4b8-9d620f4c64b3"
      },
      "execution_count": 29,
      "outputs": [
        {
          "output_type": "stream",
          "name": "stdout",
          "text": [
            "ingrese el precio del producto1 $: 5\n",
            "ingrese el precio del producto2 $: 5\n",
            "ingrese el precio del producto3 $: 5\n",
            "ingrese el precio del producto4 $: 5\n",
            "El costo productos: $23.2\n"
          ]
        }
      ]
    },
    {
      "cell_type": "markdown",
      "source": [
        "## **Ejercicio 6: Generar un recibo de pago**"
      ],
      "metadata": {
        "id": "4qM9UrDcPEgK"
      }
    },
    {
      "cell_type": "code",
      "source": [],
      "metadata": {
        "id": "C6Zwuh6RPMqX"
      },
      "execution_count": null,
      "outputs": []
    },
    {
      "cell_type": "markdown",
      "source": [
        "## **Ejercicio 7: Cálculo de propinas en un restaurante**"
      ],
      "metadata": {
        "id": "TTSK-dL-PVjl"
      }
    },
    {
      "cell_type": "code",
      "source": [
        "# Total Cuenta\n",
        "total_cuenta = float(input(\"Ingrese total cuenta: $ \"))\n",
        "valor_propina = float(input(\"ingrese & de propina : \"))\n",
        "\n",
        "def calcular_propina(total_cuenta, valor_propina):\n",
        "  propina = (total_cuenta * valor_propina) / 100\n",
        "  total_pagar = total_cuenta + propina\n",
        "  return propina, total_pagar\n",
        "\n",
        "propina,total_pagar = calcular_propina(total_cuenta, valor_propina)\n",
        "print(f\"costo propina : {propina}, total a pagar: {total_pagar}\")\n",
        "\n",
        "\n"
      ],
      "metadata": {
        "colab": {
          "base_uri": "https://localhost:8080/"
        },
        "id": "SGde26b3PcCt",
        "outputId": "31d5bcd1-1889-4dcf-e898-afc4933f07c4"
      },
      "execution_count": 62,
      "outputs": [
        {
          "output_type": "stream",
          "name": "stdout",
          "text": [
            "Ingrese total cuenta: $ 200\n",
            "ingrese & de propina : 16\n",
            "costo propina : 32.0, total a pagar: 232.0\n"
          ]
        }
      ]
    },
    {
      "cell_type": "markdown",
      "source": [
        "## **Ejecicio 8: Calcular la disponibilidad de habitaciones en un hotel**"
      ],
      "metadata": {
        "id": "IYEEZ8aGPhOZ"
      }
    },
    {
      "cell_type": "code",
      "source": [
        "# Habitaciones\n",
        "habitaciones_ocupadas = float(input(\"Ingrese cantidad de habitacione ocupadas: \"))\n",
        "habitaciones_requeridas = float(input(\"ingrese cantidad de habitacione requeridas: \"))\n",
        "\n",
        "# habitacion total\n",
        "habitaciones_hotel=100\n",
        "\n",
        "# costo de envio\n",
        "\n",
        "def habitaciones(habitaciones_ocupadas, habitaciones_requeridas, habitaciones_hotel):\n",
        "    habita = habitaciones_hotel - habitaciones_ocupadas\n",
        "\n",
        "    if habita >= habitaciones_requeridas:\n",
        "        return f\"hay suficientes habitaciones\"\n",
        "    else:\n",
        "      falta = habitaciones_requeridas - habita\n",
        "      return falta\n",
        "\n",
        "habitacion_final = habitaciones(habitaciones_ocupadas, habitaciones_requeridas, habitaciones_hotel)\n",
        "print(f\"validacion: {habitacion_final:}\")\n"
      ],
      "metadata": {
        "colab": {
          "base_uri": "https://localhost:8080/"
        },
        "id": "SJG4Ko3YPnGG",
        "outputId": "04b0694f-8edd-4ced-eef0-031f23b19a5b"
      },
      "execution_count": 57,
      "outputs": [
        {
          "output_type": "stream",
          "name": "stdout",
          "text": [
            "Ingrese cantidad de habitacione ocupadas: 70\n",
            "ingrese cantidad de habitacione requeridas: 60\n",
            "validacion: 30.0\n"
          ]
        }
      ]
    },
    {
      "cell_type": "markdown",
      "source": [
        "## **Ejecicio 9: Sistema de evaluación de empleados**"
      ],
      "metadata": {
        "id": "QcUYDJFwPtps"
      }
    },
    {
      "cell_type": "code",
      "source": [
        "# Datos del empleado\n",
        "\n",
        "Nombre_empleado = input(\"Ingrese el nombre del empleado : \")\n",
        "productividad = float(input(\"Ingrese califiacaión de 50 a 100, por Productividad: \"))\n",
        "puntualidad = float(input(\"Ingrese califiacaión de 50 a 100, por Puntualidad: \"))\n",
        "trabajo = float(input(\"Ingrese califiacaión de 50 a 100, por Trabajo en Equipo: \"))\n",
        "\n",
        "def evaluar_empleado(productividad, puntualidad, trabajo):\n",
        "    calificacion = (productividad + puntualidad + trabajo)/3\n",
        "\n",
        "    if calificacion > 90:\n",
        "        return f\"Sobresaliente\"\n",
        "    elif 70 <= calificacion <= 90:\n",
        "     return f\"Bueno\"\n",
        "    else:\n",
        "     return f\"Mejorable\"\n",
        "\n",
        "calificacion_final = evaluar_empleado(productividad, puntualidad, trabajo)\n",
        "print(f\"Su calificación es de: {calificacion_final:}\")\n"
      ],
      "metadata": {
        "colab": {
          "base_uri": "https://localhost:8080/"
        },
        "id": "UiLjQhbjPzf_",
        "outputId": "5a849989-064e-400b-9f2e-be24930d0428"
      },
      "execution_count": 41,
      "outputs": [
        {
          "output_type": "stream",
          "name": "stdout",
          "text": [
            "Ingrese el nombre del empleado : asd\n",
            "Ingrese califiacaión de 50 a 100, por Productividad: 100\n",
            "Ingrese califiacaión de 50 a 100, por Puntualidad: 90\n",
            "Ingrese califiacaión de 50 a 100, por Trabajo en Equipo: 90\n",
            "Su calificación es de:Sobresaliente\n"
          ]
        }
      ]
    },
    {
      "cell_type": "code",
      "source": [
        "\"\""
      ],
      "metadata": {
        "id": "QizLHEIeRzYg"
      },
      "execution_count": null,
      "outputs": []
    }
  ]
}