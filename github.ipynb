{
  "nbformat": 4,
  "nbformat_minor": 0,
  "metadata": {
    "colab": {
      "provenance": [],
      "authorship_tag": "ABX9TyNmI9UBe22yZCZk4bKVIPjz",
      "include_colab_link": true
    },
    "kernelspec": {
      "name": "python3",
      "display_name": "Python 3"
    },
    "language_info": {
      "name": "python"
    }
  },
  "cells": [
    {
      "cell_type": "markdown",
      "metadata": {
        "id": "view-in-github",
        "colab_type": "text"
      },
      "source": [
        "<a href=\"https://colab.research.google.com/github/Ardulam/CursoPython/blob/main/github.ipynb\" target=\"_parent\"><img src=\"https://colab.research.google.com/assets/colab-badge.svg\" alt=\"Open In Colab\"/></a>"
      ]
    },
    {
      "cell_type": "markdown",
      "source": [
        "**Introduccion a Python**\n",
        "\n",
        "Curso Python\n",
        "\n",
        "Unicafam\n",
        "\n",
        "Estudiante: Armando Duarte\n",
        "\n",
        "Docente: Nicolas Mojica\n",
        "\n",
        "\n",
        "\n",
        "---\n",
        "\n",
        "\n"
      ],
      "metadata": {
        "id": "OfYFE2v6AKs-"
      }
    },
    {
      "cell_type": "code",
      "source": [
        "# para hacer comentario usar #\n",
        "print (\"hola mundo\")"
      ],
      "metadata": {
        "colab": {
          "base_uri": "https://localhost:8080/"
        },
        "id": "LCbc48IuBes0",
        "outputId": "997bef98-1c8a-4b71-c549-714c2e84f532"
      },
      "execution_count": 1,
      "outputs": [
        {
          "output_type": "stream",
          "name": "stdout",
          "text": [
            "hola mundo\n"
          ]
        }
      ]
    },
    {
      "cell_type": "code",
      "source": [
        "# para insertar comentario + dos lineas usar \" \"\n",
        "\"\"\"\n",
        "est es\n",
        "un comentario\n",
        "varias lineas\n",
        "\"\"\"\n",
        "print (\"hola mundo\")"
      ],
      "metadata": {
        "colab": {
          "base_uri": "https://localhost:8080/"
        },
        "id": "3z4-I1UjEX2b",
        "outputId": "e3aa29bf-5b83-41fb-b616-9bf87eb4e438"
      },
      "execution_count": 2,
      "outputs": [
        {
          "output_type": "stream",
          "name": "stdout",
          "text": [
            "hola mundo\n"
          ]
        }
      ]
    },
    {
      "cell_type": "markdown",
      "source": [
        "**VARIABLES**"
      ],
      "metadata": {
        "id": "jdFPLFOfFFVm"
      }
    },
    {
      "cell_type": "code",
      "source": [
        "#UNA VARIABLE\n",
        "var=\"hola mundo\"\n",
        "print (var)\n"
      ],
      "metadata": {
        "colab": {
          "base_uri": "https://localhost:8080/"
        },
        "id": "3a_QY7-rFnax",
        "outputId": "d4c6aba9-2535-467b-863d-b1c3f03c8775"
      },
      "execution_count": 3,
      "outputs": [
        {
          "output_type": "stream",
          "name": "stdout",
          "text": [
            "hola mundo\n"
          ]
        }
      ]
    },
    {
      "cell_type": "code",
      "source": [
        "var=\"adios mundo\"\n",
        "print(var)"
      ],
      "metadata": {
        "colab": {
          "base_uri": "https://localhost:8080/"
        },
        "id": "ThcK8b8TGWD8",
        "outputId": "71c14834-041e-4551-d786-fccd682fd46e"
      },
      "execution_count": 5,
      "outputs": [
        {
          "output_type": "stream",
          "name": "stdout",
          "text": [
            "adios mundo\n"
          ]
        }
      ]
    },
    {
      "cell_type": "markdown",
      "source": [
        "**TIPOS DE DATOS**"
      ],
      "metadata": {
        "id": "8ww-_SC7G-ip"
      }
    },
    {
      "cell_type": "code",
      "source": [
        "entero=42"
      ],
      "metadata": {
        "id": "tPa13fG_HFG_"
      },
      "execution_count": 6,
      "outputs": []
    },
    {
      "cell_type": "code",
      "source": [
        "flotante=3.14159"
      ],
      "metadata": {
        "id": "k7CVDpxtHNZZ"
      },
      "execution_count": 7,
      "outputs": []
    },
    {
      "cell_type": "code",
      "source": [
        "#Converion Tipo de Datos\n",
        "entero=int(3.14159)#la respuest es 3\n",
        "flotante=float(5)# la respuesta es 5.0\n"
      ],
      "metadata": {
        "id": "4vj-d6NBHgMY"
      },
      "execution_count": null,
      "outputs": []
    }
  ]
}