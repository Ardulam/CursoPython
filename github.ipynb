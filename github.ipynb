{
  "nbformat": 4,
  "nbformat_minor": 0,
  "metadata": {
    "colab": {
      "provenance": [],
      "authorship_tag": "ABX9TyPYD4vYLe+Gi3h1kmj8fUzS",
      "include_colab_link": true
    },
    "kernelspec": {
      "name": "python3",
      "display_name": "Python 3"
    },
    "language_info": {
      "name": "python"
    }
  },
  "cells": [
    {
      "cell_type": "markdown",
      "metadata": {
        "id": "view-in-github",
        "colab_type": "text"
      },
      "source": [
        "<a href=\"https://colab.research.google.com/github/Ardulam/CursoPython/blob/main/github.ipynb\" target=\"_parent\"><img src=\"https://colab.research.google.com/assets/colab-badge.svg\" alt=\"Open In Colab\"/></a>"
      ]
    },
    {
      "cell_type": "markdown",
      "source": [
        "**Introduccion a Python**\n",
        "\n",
        "Curso Python\n",
        "\n",
        "Unicafam\n",
        "\n",
        "Estudiante: Armando Duarte\n",
        "\n",
        "Docente: Nicolas Mojica\n",
        "\n",
        "\n",
        "\n",
        "---\n",
        "\n",
        "\n"
      ],
      "metadata": {
        "id": "OfYFE2v6AKs-"
      }
    },
    {
      "cell_type": "code",
      "source": [
        "# para hacer comentario usar #\n",
        "print (\"hola mundo\")"
      ],
      "metadata": {
        "colab": {
          "base_uri": "https://localhost:8080/"
        },
        "id": "LCbc48IuBes0",
        "outputId": "997bef98-1c8a-4b71-c549-714c2e84f532"
      },
      "execution_count": null,
      "outputs": [
        {
          "output_type": "stream",
          "name": "stdout",
          "text": [
            "hola mundo\n"
          ]
        }
      ]
    },
    {
      "cell_type": "code",
      "source": [
        "# para insertar comentario + dos lineas usar \" \"\n",
        "\"\"\"\n",
        "est es\n",
        "un comentario\n",
        "varias lineas\n",
        "\"\"\"\n",
        "print (\"hola mundo\")"
      ],
      "metadata": {
        "colab": {
          "base_uri": "https://localhost:8080/"
        },
        "id": "3z4-I1UjEX2b",
        "outputId": "e3aa29bf-5b83-41fb-b616-9bf87eb4e438"
      },
      "execution_count": null,
      "outputs": [
        {
          "output_type": "stream",
          "name": "stdout",
          "text": [
            "hola mundo\n"
          ]
        }
      ]
    },
    {
      "cell_type": "markdown",
      "source": [
        "**VARIABLES**"
      ],
      "metadata": {
        "id": "jdFPLFOfFFVm"
      }
    },
    {
      "cell_type": "code",
      "source": [
        "#UNA VARIABLE\n",
        "var=\"hola mundo\"\n",
        "print (var)\n"
      ],
      "metadata": {
        "colab": {
          "base_uri": "https://localhost:8080/"
        },
        "id": "3a_QY7-rFnax",
        "outputId": "d4c6aba9-2535-467b-863d-b1c3f03c8775"
      },
      "execution_count": null,
      "outputs": [
        {
          "output_type": "stream",
          "name": "stdout",
          "text": [
            "hola mundo\n"
          ]
        }
      ]
    },
    {
      "cell_type": "code",
      "source": [
        "var=\"adios mundo\"\n",
        "print(var)"
      ],
      "metadata": {
        "colab": {
          "base_uri": "https://localhost:8080/"
        },
        "id": "ThcK8b8TGWD8",
        "outputId": "71c14834-041e-4551-d786-fccd682fd46e"
      },
      "execution_count": null,
      "outputs": [
        {
          "output_type": "stream",
          "name": "stdout",
          "text": [
            "adios mundo\n"
          ]
        }
      ]
    },
    {
      "cell_type": "markdown",
      "source": [
        "**TIPOS DE DATOS**"
      ],
      "metadata": {
        "id": "8ww-_SC7G-ip"
      }
    },
    {
      "cell_type": "code",
      "source": [
        "entero=42"
      ],
      "metadata": {
        "id": "tPa13fG_HFG_"
      },
      "execution_count": null,
      "outputs": []
    },
    {
      "cell_type": "code",
      "source": [
        "flotante=3.14159"
      ],
      "metadata": {
        "id": "k7CVDpxtHNZZ"
      },
      "execution_count": null,
      "outputs": []
    },
    {
      "cell_type": "code",
      "source": [
        "#Converion Tipo de Datos\n",
        "entero=int(3.14159)#la respuest es 3\n",
        "flotante=float(5)# la respuesta es 5.0\n"
      ],
      "metadata": {
        "id": "4vj-d6NBHgMY"
      },
      "execution_count": null,
      "outputs": []
    },
    {
      "cell_type": "markdown",
      "source": [
        "** OPERADORES AUTOMATICOS**"
      ],
      "metadata": {
        "id": "0e-sJQV17mYv"
      }
    },
    {
      "cell_type": "code",
      "source": [
        "  a=2\n",
        "  b=4\n",
        "  #SUMA\n",
        "  print(a+b)#el resultdao 6\n",
        "\n",
        "  # Resta\n",
        "  print(b-a)# el resltado es =2\n",
        "\n",
        "  #Divisio\n",
        "  c=6/a# es =2\n",
        "  print(c)\n",
        "\n",
        "  #Divison entera no deja residuios\n",
        "  d=3\n",
        "  print(d/a)\n",
        "\n",
        "  #EXPONENCIACION\n",
        "  print(a**5)\n",
        "\n",
        "  #MODULO\n",
        "  print(b%a)\n",
        "\n",
        " # asignacion compuesta\n",
        "  a+=b\n",
        "  print(a)\n",
        "  a=2\n",
        "\n",
        "  #Redondeo de variables\n",
        "  e=3.1415\n",
        "  print(round(e,2))\n",
        "\n",
        "  #Valor absoluto abs\n",
        "  f=a-b\n",
        "  print(abs(f))\n",
        "\n"
      ],
      "metadata": {
        "colab": {
          "base_uri": "https://localhost:8080/"
        },
        "id": "jt6s973Q7qfn",
        "outputId": "66c212cc-a500-4766-838c-53c087a36fdc"
      },
      "execution_count": null,
      "outputs": [
        {
          "output_type": "stream",
          "name": "stdout",
          "text": [
            "6\n",
            "2\n",
            "3.0\n",
            "1.5\n",
            "32\n",
            "0\n",
            "6\n"
          ]
        }
      ]
    },
    {
      "cell_type": "markdown",
      "source": [
        "** Valores String **"
      ],
      "metadata": {
        "id": "AuK622AS_qQ3"
      }
    },
    {
      "cell_type": "code",
      "source": [
        "# CONCATENACION DE CARACTEREST\n",
        "saludo= 'Hola'\n",
        "nombre= 'Mundo'\n",
        "mensaje= saludo+ \" , \" + nombre\n",
        "print(mensaje)"
      ],
      "metadata": {
        "colab": {
          "base_uri": "https://localhost:8080/"
        },
        "id": "6c3m5sPV_vNq",
        "outputId": "e634e72b-4ad6-40a9-aa1f-4682388cf0c2"
      },
      "execution_count": null,
      "outputs": [
        {
          "output_type": "stream",
          "name": "stdout",
          "text": [
            "Hola , Mundo\n"
          ]
        }
      ]
    },
    {
      "cell_type": "code",
      "source": [
        " # Indexacion\n",
        " # Obtener una variable que cintenga el primer caracter de la variable saludo\n",
        "primer_caracter=saludo[0]\n",
        "print(primer_caracter)\n",
        "\n",
        "# Genere nueva variable donde estraiga la palabra hola\n",
        "subcadena=mensaje[0:4]\n",
        "print(subcadena)"
      ],
      "metadata": {
        "colab": {
          "base_uri": "https://localhost:8080/"
        },
        "id": "r-0YnLqRBLQ1",
        "outputId": "e4f00cf9-b510-487e-f5aa-c97117e02477"
      },
      "execution_count": null,
      "outputs": [
        {
          "output_type": "stream",
          "name": "stdout",
          "text": [
            "H\n",
            "Hola\n"
          ]
        }
      ]
    },
    {
      "cell_type": "code",
      "source": [
        "# Mestodo Cadena\n",
        "#Mayusculas\n",
        "cadena='Python es genial'\n",
        "print(cadena.upper())\n",
        "\n",
        "#MINISCULAS\n",
        "print(cadena.lower())\n",
        "\n",
        "#Reemplazo\n",
        "print(cadena.replace(\"geneial\", \"increible\"))\n",
        "\n",
        "#Separar\n",
        "print(cadena.split(\" \"))\n",
        "\n",
        "print(cadena[0])\n",
        "\n",
        "cadena_separado=cadena.split(\" \")\n",
        "print(cadena_separado[0])"
      ],
      "metadata": {
        "colab": {
          "base_uri": "https://localhost:8080/"
        },
        "id": "xmKkUN1gB2U7",
        "outputId": "259f586b-e31f-436b-c6f4-11e765488d82"
      },
      "execution_count": null,
      "outputs": [
        {
          "output_type": "stream",
          "name": "stdout",
          "text": [
            "PYTHON ES GENIAL\n",
            "python es genial\n",
            "Python es genial\n",
            "['Python', 'es', 'genial']\n",
            "P\n",
            "Python\n"
          ]
        }
      ]
    },
    {
      "cell_type": "markdown",
      "source": [
        "** EStructura de Datos **"
      ],
      "metadata": {
        "id": "VW6OBo8YE-S4"
      }
    },
    {
      "cell_type": "code",
      "source": [
        "#las lista son las estrcuturas de datos en Python mas usadas por su felxibilidad y facilidad\n",
        "lista = [1, 2, 3, \"cuatro\", 5.0]\n",
        "#MODIFICAR ELEMENTOS DE LA LISTA\n",
        "lista[3]=4\n",
        "print(lista)\n",
        "\n",
        "#insertar elementos\n",
        "# con una posicion determinada\n",
        "lista.insert(3,3.3)\n",
        "print(lista)\n",
        "\n",
        "#remover elementos en una lista\n",
        "lista.remove(5.0)\n",
        "print(lista)\n",
        "\n"
      ],
      "metadata": {
        "colab": {
          "base_uri": "https://localhost:8080/"
        },
        "id": "sgDBZRfrFCbH",
        "outputId": "2ce6117e-19d4-4701-c3d5-34925b2551ba"
      },
      "execution_count": null,
      "outputs": [
        {
          "output_type": "stream",
          "name": "stdout",
          "text": [
            "[1, 2, 3, 4, 5.0]\n",
            "[1, 2, 3, 3.3, 4, 5.0]\n",
            "[1, 2, 3, 3.3, 4]\n"
          ]
        }
      ]
    }
  ]
}